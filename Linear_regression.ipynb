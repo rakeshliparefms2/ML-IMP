{
 "cells": [
  {
   "cell_type": "code",
   "execution_count": 1,
   "id": "bb7ee90d",
   "metadata": {},
   "outputs": [],
   "source": [
    "import numpy as np\n",
    "import matplotlib.pyplot as plt"
   ]
  },
  {
   "cell_type": "markdown",
   "id": "d10fad9b",
   "metadata": {},
   "source": [
    "# Problem statement: Prediction of Weight on the basis of Height"
   ]
  },
  {
   "cell_type": "code",
   "execution_count": 1,
   "id": "2186e1db",
   "metadata": {},
   "outputs": [],
   "source": [
    "ht=[[151],[174],[138],[186],[128],[136],[179],[163],[152],[131]]\n",
    "# input in ML must be in 2D\n",
    "\n",
    "wt=[[63],[81],[56],[91],[47],[57],[76],[72],[62],[48]]"
   ]
  },
  {
   "cell_type": "code",
   "execution_count": 3,
   "id": "b1c8e647",
   "metadata": {},
   "outputs": [],
   "source": [
    "#+ve relationship: x(input) is directly proportional to y(Output)\n",
    "#Example: Quantity vs Price, Experience vs Salary,Overs vs Runs\n",
    "\n",
    "#-ve relationship: x(input) is inversely proportional to y(Output)\n",
    "#Example: Usage vs Battery, No.year vs Depreciation cost, Speed vs Time\n"
   ]
  },
  {
   "cell_type": "code",
   "execution_count": 13,
   "id": "c86d6a06",
   "metadata": {},
   "outputs": [
    {
     "data": {
      "text/plain": [
       "<matplotlib.collections.PathCollection at 0x265c929d7f0>"
      ]
     },
     "execution_count": 13,
     "metadata": {},
     "output_type": "execute_result"
    },
    {
     "data": {
      "image/png": "[encoded data removed]",
      "text/plain": [
       "<Figure size 432x288 with 1 Axes>"
      ]
     },
     "metadata": {
      "needs_background": "light"
     },
     "output_type": "display_data"
    }
   ],
   "source": [
    "plt.scatter(ht,wt,marker='*',color='g')"
   ]
  },
  {
   "cell_type": "code",
   "execution_count": 10,
   "id": "9784ce96",
   "metadata": {},
   "outputs": [],
   "source": [
    "#import algorithm class\n",
    "from sklearn.linear_model import LinearRegression"
   ]
  },
  {
   "cell_type": "code",
   "execution_count": 11,
   "id": "b7d7cce0",
   "metadata": {},
   "outputs": [],
   "source": [
    "# Creation of an object for LR class\n",
    "lr =  LinearRegression()"
   ]
  },
  {
   "cell_type": "markdown",
   "id": "2e8fcab9",
   "metadata": {},
   "source": [
    "## Model Training"
   ]
  },
  {
   "cell_type": "code",
   "execution_count": 15,
   "id": "b2f866e8",
   "metadata": {},
   "outputs": [
    {
     "data": {
      "text/plain": [
       "LinearRegression()"
      ]
     },
     "execution_count": 15,
     "metadata": {},
     "output_type": "execute_result"
    }
   ],
   "source": [
    "lr.fit(ht,wt)"
   ]
  },
  {
   "cell_type": "markdown",
   "id": "0dc29831",
   "metadata": {},
   "source": [
    "## Model Testing"
   ]
  },
  {
   "cell_type": "code",
   "execution_count": 16,
   "id": "631baf58",
   "metadata": {},
   "outputs": [
    {
     "data": {
      "text/plain": [
       "array([[68.13336389]])"
      ]
     },
     "execution_count": 16,
     "metadata": {},
     "output_type": "execute_result"
    }
   ],
   "source": [
    "lr.predict([[158]])\n",
    "#ht = int(input(''))"
   ]
  },
  {
   "cell_type": "code",
   "execution_count": 18,
   "id": "47ecd7d6",
   "metadata": {},
   "outputs": [
    {
     "data": {
      "text/plain": [
       "1"
      ]
     },
     "execution_count": 18,
     "metadata": {},
     "output_type": "execute_result"
    }
   ],
   "source": [
    "Pred = 68\n",
    "actual = 69\n",
    "error = actual - Pred\n",
    "error"
   ]
  },
  {
   "cell_type": "code",
   "execution_count": 21,
   "id": "dc22de91",
   "metadata": {},
   "outputs": [
    {
     "name": "stdout",
     "output_type": "stream",
     "text": [
      "Enter your height:190,120,150\n"
     ]
    }
   ],
   "source": [
    "h = eval((input('Enter your height:')))\n",
    "#print('Your height is:',h,'and predicted weight is:',lr.predict([[h]]),'kg')"
   ]
  },
  {
   "cell_type": "code",
   "execution_count": 23,
   "id": "8fc5b7da",
   "metadata": {},
   "outputs": [
    {
     "data": {
      "text/plain": [
       "[190, 120, 150]"
      ]
     },
     "execution_count": 23,
     "metadata": {},
     "output_type": "execute_result"
    }
   ],
   "source": [
    "list(h)"
   ]
  },
  {
   "cell_type": "code",
   "execution_count": 26,
   "id": "b6fbd948",
   "metadata": {},
   "outputs": [
    {
     "data": {
      "text/plain": [
       "array([[62.73648029],\n",
       "       [89.72089826],\n",
       "       [42.49816682],\n",
       "       [62.73648029],\n",
       "       [52.61732356]])"
      ]
     },
     "execution_count": 26,
     "metadata": {},
     "output_type": "execute_result"
    }
   ],
   "source": [
    "test = [[150],[190], [120], [150],[135]]\n",
    "y_pred = lr.predict(test)\n",
    "y_pred"
   ]
  },
  {
   "cell_type": "code",
   "execution_count": 29,
   "id": "cfa304f8",
   "metadata": {},
   "outputs": [
    {
     "data": {
      "text/plain": [
       "[<matplotlib.lines.Line2D at 0x265c8e92700>]"
      ]
     },
     "execution_count": 29,
     "metadata": {},
     "output_type": "execute_result"
    },
    {
     "data": {
      "image/png": "[encoded data removed]",
      "text/plain": [
       "<Figure size 432x288 with 1 Axes>"
      ]
     },
     "metadata": {
      "needs_background": "light"
     },
     "output_type": "display_data"
    }
   ],
   "source": [
    "plt.scatter(ht,wt)p\n",
    "plt.plot(test,y_pred,color='r')"
   ]
  },
  {
   "cell_type": "markdown",
   "id": "5575cc09",
   "metadata": {},
   "source": [
    "# y = mx + c"
   ]
  },
  {
   "cell_type": "code",
   "execution_count": 33,
   "id": "5fe13817",
   "metadata": {},
   "outputs": [
    {
     "data": {
      "text/plain": [
       "array([[0.67461045]])"
      ]
     },
     "execution_count": 33,
     "metadata": {},
     "output_type": "execute_result"
    }
   ],
   "source": [
    "#m: slope\n",
    "m = lr.coef_\n",
    "m"
   ]
  },
  {
   "cell_type": "code",
   "execution_count": 34,
   "id": "c0fea798",
   "metadata": {},
   "outputs": [
    {
     "data": {
      "text/plain": [
       "array([-38.45508708])"
      ]
     },
     "execution_count": 34,
     "metadata": {},
     "output_type": "execute_result"
    }
   ],
   "source": [
    "c= lr.intercept_\n",
    "c"
   ]
  },
  {
   "cell_type": "code",
   "execution_count": 35,
   "id": "85fb4e15",
   "metadata": {},
   "outputs": [
    {
     "data": {
      "text/plain": [
       "array([[76.90329973]])"
      ]
     },
     "execution_count": 35,
     "metadata": {},
     "output_type": "execute_result"
    }
   ],
   "source": [
    "m*171 + c"
   ]
  },
  {
   "cell_type": "code",
   "execution_count": 36,
   "id": "10f126af",
   "metadata": {},
   "outputs": [
    {
     "data": {
      "text/plain": [
       "array([[66.78414299]])"
      ]
     },
     "execution_count": 36,
     "metadata": {},
     "output_type": "execute_result"
    }
   ],
   "source": [
    "m*156 + c"
   ]
  },
  {
   "cell_type": "code",
   "execution_count": 37,
   "id": "07e90f3e",
   "metadata": {},
   "outputs": [
    {
     "data": {
      "text/plain": [
       "array([[87.02245646]])"
      ]
     },
     "execution_count": 37,
     "metadata": {},
     "output_type": "execute_result"
    }
   ],
   "source": [
    "m*186 + c"
   ]
  },
  {
   "cell_type": "code",
   "execution_count": 38,
   "id": "9ef7d854",
   "metadata": {
    "scrolled": true
   },
   "outputs": [
    {
     "data": {
      "text/plain": [
       "4"
      ]
     },
     "execution_count": 38,
     "metadata": {},
     "output_type": "execute_result"
    }
   ],
   "source": [
    "#actual value 91\n",
    "91 - 87"
   ]
  },
  {
   "cell_type": "code",
   "execution_count": null,
   "id": "ddc8f252",
   "metadata": {},
   "outputs": [],
   "source": []
  },
  {
   "cell_type": "code",
   "execution_count": 40,
   "id": "a51ed729",
   "metadata": {},
   "outputs": [
    {
     "data": {
      "text/html": [
       "<div>\n",
       "<style scoped>\n",
       "    .dataframe tbody tr th:only-of-type {\n",
       "        vertical-align: middle;\n",
       "    }\n",
       "\n",
       "    .dataframe tbody tr th {\n",
       "        vertical-align: top;\n",
       "    }\n",
       "\n",
       "    .dataframe thead th {\n",
       "        text-align: right;\n",
       "    }\n",
       "</style>\n",
       "<table border=\"1\" class=\"dataframe\">\n",
       "  <thead>\n",
       "    <tr style=\"text-align: right;\">\n",
       "      <th></th>\n",
       "      <th>input</th>\n",
       "      <th>Actual</th>\n",
       "      <th>Predicted</th>\n",
       "    </tr>\n",
       "  </thead>\n",
       "  <tbody>\n",
       "    <tr>\n",
       "      <th>0</th>\n",
       "      <td>120</td>\n",
       "      <td>56</td>\n",
       "      <td>57</td>\n",
       "    </tr>\n",
       "    <tr>\n",
       "      <th>1</th>\n",
       "      <td>150</td>\n",
       "      <td>67</td>\n",
       "      <td>72</td>\n",
       "    </tr>\n",
       "    <tr>\n",
       "      <th>2</th>\n",
       "      <td>180</td>\n",
       "      <td>80</td>\n",
       "      <td>80</td>\n",
       "    </tr>\n",
       "    <tr>\n",
       "      <th>3</th>\n",
       "      <td>200</td>\n",
       "      <td>95</td>\n",
       "      <td>99</td>\n",
       "    </tr>\n",
       "  </tbody>\n",
       "</table>\n",
       "</div>"
      ],
      "text/plain": [
       "   input  Actual  Predicted\n",
       "0    120      56         57\n",
       "1    150      67         72\n",
       "2    180      80         80\n",
       "3    200      95         99"
      ]
     },
     "execution_count": 40,
     "metadata": {},
     "output_type": "execute_result"
    }
   ],
   "source": [
    "import pandas as pd\n",
    "final = pd.DataFrame({'input':[120,150,180,200],'Actual':[56,67,80,95],'Predicted':[57,72,80,99]})\n",
    "final"
   ]
  },
  {
   "cell_type": "code",
   "execution_count": 42,
   "id": "37277d51",
   "metadata": {},
   "outputs": [],
   "source": [
    "final['error'] = final.Actual -final.Predicted"
   ]
  },
  {
   "cell_type": "code",
   "execution_count": 43,
   "id": "e68a1e46",
   "metadata": {},
   "outputs": [
    {
     "data": {
      "text/html": [
       "<div>\n",
       "<style scoped>\n",
       "    .dataframe tbody tr th:only-of-type {\n",
       "        vertical-align: middle;\n",
       "    }\n",
       "\n",
       "    .dataframe tbody tr th {\n",
       "        vertical-align: top;\n",
       "    }\n",
       "\n",
       "    .dataframe thead th {\n",
       "        text-align: right;\n",
       "    }\n",
       "</style>\n",
       "<table border=\"1\" class=\"dataframe\">\n",
       "  <thead>\n",
       "    <tr style=\"text-align: right;\">\n",
       "      <th></th>\n",
       "      <th>input</th>\n",
       "      <th>Actual</th>\n",
       "      <th>Predicted</th>\n",
       "      <th>error</th>\n",
       "    </tr>\n",
       "  </thead>\n",
       "  <tbody>\n",
       "    <tr>\n",
       "      <th>0</th>\n",
       "      <td>120</td>\n",
       "      <td>56</td>\n",
       "      <td>57</td>\n",
       "      <td>-1</td>\n",
       "    </tr>\n",
       "    <tr>\n",
       "      <th>1</th>\n",
       "      <td>150</td>\n",
       "      <td>67</td>\n",
       "      <td>72</td>\n",
       "      <td>-5</td>\n",
       "    </tr>\n",
       "    <tr>\n",
       "      <th>2</th>\n",
       "      <td>180</td>\n",
       "      <td>80</td>\n",
       "      <td>80</td>\n",
       "      <td>0</td>\n",
       "    </tr>\n",
       "    <tr>\n",
       "      <th>3</th>\n",
       "      <td>200</td>\n",
       "      <td>95</td>\n",
       "      <td>99</td>\n",
       "      <td>-4</td>\n",
       "    </tr>\n",
       "  </tbody>\n",
       "</table>\n",
       "</div>"
      ],
      "text/plain": [
       "   input  Actual  Predicted  error\n",
       "0    120      56         57     -1\n",
       "1    150      67         72     -5\n",
       "2    180      80         80      0\n",
       "3    200      95         99     -4"
      ]
     },
     "execution_count": 43,
     "metadata": {},
     "output_type": "execute_result"
    }
   ],
   "source": [
    "final"
   ]
  },
  {
   "cell_type": "code",
   "execution_count": 44,
   "id": "02b984c3",
   "metadata": {},
   "outputs": [],
   "source": [
    "#56 - min(x)/max(x)\n",
    "func = lambda x: (x - min(final.Actual))/max(final.Actual)"
   ]
  },
  {
   "cell_type": "code",
   "execution_count": 45,
   "id": "07df1651",
   "metadata": {},
   "outputs": [
    {
     "data": {
      "text/plain": [
       "0    0.000000\n",
       "1    0.115789\n",
       "2    0.252632\n",
       "3    0.410526\n",
       "Name: Actual, dtype: float64"
      ]
     },
     "execution_count": 45,
     "metadata": {},
     "output_type": "execute_result"
    }
   ],
   "source": [
    "final.Actual.apply(func)"
   ]
  },
  {
   "cell_type": "code",
   "execution_count": 47,
   "id": "c73e2981",
   "metadata": {},
   "outputs": [
    {
     "data": {
      "text/plain": [
       "95.47822477500306"
      ]
     },
     "execution_count": 47,
     "metadata": {},
     "output_type": "execute_result"
    }
   ],
   "source": [
    "# How to check accuracy of Input and Output data supplied to allgorithm\n",
    "#Example accuracy of ht and wt\n",
    "# use score method\n",
    "lr.score(ht,wt)*100"
   ]
  },
  {
   "cell_type": "code",
   "execution_count": null,
   "id": "dba91109",
   "metadata": {},
   "outputs": [],
   "source": [
    "#actual value 91\n",
    "91 - 87"
   ]
  },
  {
   "cell_type": "code",
   "execution_count": 48,
   "id": "832ae909",
   "metadata": {},
   "outputs": [
    {
     "data": {
      "text/plain": [
       "65.3"
      ]
     },
     "execution_count": 48,
     "metadata": {},
     "output_type": "execute_result"
    }
   ],
   "source": [
    "np.mean(wt)"
   ]
  },
  {
   "cell_type": "code",
   "execution_count": null,
   "id": "df30c5f2",
   "metadata": {},
   "outputs": [],
   "source": [
    "r2 = SSR/SST\n",
    "sum 87 - 65.3\n",
    "-------------\n",
    "sum 91 - 65.3"
   ]
  },
  {
   "cell_type": "code",
   "execution_count": 49,
   "id": "ad00de80",
   "metadata": {},
   "outputs": [],
   "source": [
    "#lets add some bad values\n",
    "ht=[[151],[174],[138],[186],[128],[136],[179],[163],[152],[131]]\n",
    "wt=[[63],[81],[56],[91],[47],[57],[76],[72],[92],[98]]"
   ]
  },
  {
   "cell_type": "code",
   "execution_count": 52,
   "id": "d2e2e784",
   "metadata": {},
   "outputs": [
    {
     "data": {
      "text/plain": [
       "<matplotlib.collections.PathCollection at 0x265ca224100>"
      ]
     },
     "execution_count": 52,
     "metadata": {},
     "output_type": "execute_result"
    },
    {
     "data": {
      "image/png": "[encoded data removed]",
      "text/plain": [
       "<Figure size 432x288 with 1 Axes>"
      ]
     },
     "metadata": {
      "needs_background": "light"
     },
     "output_type": "display_data"
    }
   ],
   "source": [
    "plt.scatter(ht,wt)"
   ]
  },
  {
   "cell_type": "code",
   "execution_count": 50,
   "id": "c1249b84",
   "metadata": {},
   "outputs": [
    {
     "data": {
      "text/plain": [
       "LinearRegression()"
      ]
     },
     "execution_count": 50,
     "metadata": {},
     "output_type": "execute_result"
    }
   ],
   "source": [
    "model = LinearRegression()\n",
    "model.fit(ht,wt)"
   ]
  },
  {
   "cell_type": "code",
   "execution_count": 51,
   "id": "8c88d80b",
   "metadata": {},
   "outputs": [
    {
     "data": {
      "text/plain": [
       "19.949595500006424"
      ]
     },
     "execution_count": 51,
     "metadata": {},
     "output_type": "execute_result"
    }
   ],
   "source": [
    "model.score(ht,wt)*100"
   ]
  },
  {
   "cell_type": "code",
   "execution_count": null,
   "id": "ea2ad64c",
   "metadata": {},
   "outputs": [],
   "source": [
    "f1, f2, f3, f4        out\n",
    "1.23 1.21 1.22 1.2125  A"
   ]
  }
 ],
 "metadata": {
  "kernelspec": {
   "display_name": "Python 3 (ipykernel)",
   "language": "python",
   "name": "python3"
  },
  "language_info": {
   "codemirror_mode": {
    "name": "ipython",
    "version": 3
   },
   "file_extension": ".py",
   "mimetype": "text/x-python",
   "name": "python",
   "nbconvert_exporter": "python",
   "pygments_lexer": "ipython3",
   "version": "3.9.12"
  }
 },
 "nbformat": 4,
 "nbformat_minor": 5
}
