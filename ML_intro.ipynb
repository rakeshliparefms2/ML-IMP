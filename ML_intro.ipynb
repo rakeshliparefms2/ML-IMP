{
 "cells": [
  {
   "cell_type": "code",
   "execution_count": null,
   "id": "d0f96e55",
   "metadata": {},
   "outputs": [],
   "source": [
    " ML Introduction: Linear Regression Algorithm\n",
    "# Simple Linear regresssion 1 Input + 1 Output"
   ]
  },
  {
   "cell_type": "code",
   "execution_count": 1,
   "id": "724e28fc",
   "metadata": {},
   "outputs": [],
   "source": [
    "# Lets have a data first\n",
    "# In ML, input must be in 2D format\n",
    "X = [[1],[2],[3],[4],[5]]\n",
    "y = [3,4,2,4,5]"
   ]
  },
  {
   "cell_type": "code",
   "execution_count": 1,
   "id": "20ea189c",
   "metadata": {},
   "outputs": [
    {
     "name": "stderr",
     "output_type": "stream",
     "text": [
      "C:\\Users\\Rakesh\\anaconda3\\lib\\site-packages\\scipy\\__init__.py:146: UserWarning: A NumPy version >=1.16.5 and <1.23.0 is required for this version of SciPy (detected version 1.23.3\n",
      "  warnings.warn(f\"A NumPy version >={np_minversion} and <{np_maxversion}\"\n"
     ]
    }
   ],
   "source": [
    "# Import LinearRegression class\n",
    "from sklearn.linear_model import LinearRegression"
   ]
  },
  {
   "cell_type": "code",
   "execution_count": 3,
   "id": "85e73d17",
   "metadata": {},
   "outputs": [],
   "source": [
    "# Create an object of LR\n",
    "model = LinearRegression()"
   ]
  },
  {
   "cell_type": "code",
   "execution_count": 5,
   "id": "4f307efc",
   "metadata": {},
   "outputs": [
    {
     "data": {
      "text/plain": [
       "LinearRegression()"
      ]
     },
     "execution_count": 5,
     "metadata": {},
     "output_type": "execute_result"
    }
   ],
   "source": [
    "# Model Training\n",
    "# fit method is used to perform training of algorithm\n",
    "model.fit(X,y)"
   ]
  },
  {
   "cell_type": "code",
   "execution_count": 6,
   "id": "a0283be9",
   "metadata": {},
   "outputs": [
    {
     "data": {
      "text/plain": [
       "array([3.6])"
      ]
     },
     "execution_count": 6,
     "metadata": {},
     "output_type": "execute_result"
    }
   ],
   "source": [
    "# Model Prediction\n",
    "# use predict method to get pedcition using new input\n",
    "model.predict([[3]])"
   ]
  },
  {
   "cell_type": "code",
   "execution_count": 7,
   "id": "41cedf80",
   "metadata": {},
   "outputs": [
    {
     "data": {
      "text/plain": [
       "array([4.4])"
      ]
     },
     "execution_count": 7,
     "metadata": {},
     "output_type": "execute_result"
    }
   ],
   "source": [
    "model.predict([[5]])"
   ]
  },
  {
   "cell_type": "code",
   "execution_count": null,
   "id": "8b5175ee",
   "metadata": {},
   "outputs": [],
   "source": [
    "\"\"\"\n",
    "ML project -  ML Project Flow\n",
    "1. Loading dataset\n",
    "2. Identify X(independant variable/s),y(Output)\n",
    "3. Data analysis[EDA:Exploratory Data Analysis]\n",
    "4. Feature selection process: select important feature amongs all\n",
    "5. Feature Engineering: creating a new features/columns from available one\n",
    "6. Splitting Data into Training segment and Testing segment(OPTIONAL)\n",
    "7. Model Training\n",
    "8. Model Testing\n",
    "9. Performance checking using metrics\n",
    "10. Evaluate your performance and try to improve if needed \n",
    "using Hyperparamter tuning\n",
    "\"\"\""
   ]
  }
 ],
 "metadata": {
  "kernelspec": {
   "display_name": "Python 3 (ipykernel)",
   "language": "python",
   "name": "python3"
  },
  "language_info": {
   "codemirror_mode": {
    "name": "ipython",
    "version": 3
   },
   "file_extension": ".py",
   "mimetype": "text/x-python",
   "name": "python",
   "nbconvert_exporter": "python",
   "pygments_lexer": "ipython3",
   "version": "3.9.12"
  }
 },
 "nbformat": 4,
 "nbformat_minor": 5
}
